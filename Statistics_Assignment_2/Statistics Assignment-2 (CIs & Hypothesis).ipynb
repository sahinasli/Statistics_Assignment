{
 "cells": [
  {
   "cell_type": "code",
   "execution_count": 27,
   "id": "fa1e8857",
   "metadata": {},
   "outputs": [],
   "source": [
    "import numpy as np\n",
    "from scipy import stats\n",
    "import matplotlib.pyplot as plt\n",
    "import seaborn as sns\n",
    "from math import sqrt\n",
    "from scipy.stats import ttest_ind\n",
    "import pandas as pd\n",
    "import matplotlib.pyplot as plt"
   ]
  },
  {
   "cell_type": "markdown",
   "id": "9d2b9120",
   "metadata": {},
   "source": [
    "# CONFIDENCE INTERVALS"
   ]
  },
  {
   "cell_type": "markdown",
   "id": "e1c13044",
   "metadata": {},
   "source": [
    "### EXERCISE 1.\n",
    "What is the normal body temperature for healthy humans? A random sample of 130 healthy human body temperatures provided by Allen Shoemaker yielded 98.25 degrees and standard deviation 0.73 degrees.\n",
    "\n",
    "Give a 99% confidence interval for the average body temperature of healthy people."
   ]
  },
  {
   "cell_type": "code",
   "execution_count": 2,
   "id": "2d4bb175",
   "metadata": {},
   "outputs": [],
   "source": [
    "x_bar = 98.25 # sample mean\n",
    "n = 130 # size of samples\n",
    "sigma = 0.73 # sd of population\n",
    "confidence_level = 0.99"
   ]
  },
  {
   "cell_type": "code",
   "execution_count": 3,
   "id": "700b00ae",
   "metadata": {},
   "outputs": [
    {
     "data": {
      "text/plain": [
       "(98.08508192246582, 98.41491807753418)"
      ]
     },
     "execution_count": 3,
     "metadata": {},
     "output_type": "execute_result"
    }
   ],
   "source": [
    "stats.norm.interval(confidence_level, x_bar, (sigma / np.sqrt(n)))"
   ]
  },
  {
   "cell_type": "markdown",
   "id": "9bf10df3",
   "metadata": {},
   "source": [
    "### EXERCISE 2.\n",
    "The administrators for a hospital wished to estimate the average number of days required for inpatient treatment of patients between the ages of 25 and 34. A random sample of 500 hospital patients between these ages produced a mean and standard deviation equal to 5.4 and 3.1 days, respectively.\n",
    "\n",
    "\n",
    "Construct a 95% confidence interval for the mean length of stay for the population of patients from which the sample was drawn.\n"
   ]
  },
  {
   "cell_type": "code",
   "execution_count": 4,
   "id": "148f0c56",
   "metadata": {},
   "outputs": [],
   "source": [
    "sample_mean = 5.4 # x_bar\n",
    "sample_size = 500 # n\n",
    "population_std = 3.1 # sigma\n",
    "confidence_level_1 = 0.95"
   ]
  },
  {
   "cell_type": "code",
   "execution_count": 5,
   "id": "e32507d5",
   "metadata": {},
   "outputs": [
    {
     "data": {
      "text/plain": [
       "(5.12827801242126, 5.67172198757874)"
      ]
     },
     "execution_count": 5,
     "metadata": {},
     "output_type": "execute_result"
    }
   ],
   "source": [
    "stats.norm.interval(confidence_level_1, sample_mean, (population_std / np.sqrt(sample_size)))"
   ]
  },
  {
   "cell_type": "markdown",
   "id": "67a420ad",
   "metadata": {},
   "source": [
    "# HYPOTHESIS TESTING"
   ]
  },
  {
   "cell_type": "markdown",
   "id": "54f9caf3",
   "metadata": {},
   "source": [
    "### EXERCISE 3.\n",
    "The hourly wages in a particular industry are normally distributed with mean 13.20 dolar and standard deviation 2.50 dolar. A company in this industry employs 40 workers, paying them an average of $12.20 per hour. Can this company be accused of paying substandard wages? Use an α = .01 level test. (Wackerly, Ex.10.18)\n",
    "\n",
    "CHECK: statistic: -2.5298221281347035, pvalue= 0.005706018193000826"
   ]
  },
  {
   "cell_type": "markdown",
   "id": "d56635a7",
   "metadata": {},
   "source": [
    "* Ho : sample_mean >= population_mean\n",
    "* Ha : sample_mean < population_mean"
   ]
  },
  {
   "cell_type": "code",
   "execution_count": 8,
   "id": "4ee06298",
   "metadata": {},
   "outputs": [],
   "source": [
    "population_mean = 13.20\n",
    "population_std = 2.50\n",
    "sample_size = 40\n",
    "sample_mean = 12.20\n",
    "level_test = 0.01"
   ]
  },
  {
   "cell_type": "code",
   "execution_count": 11,
   "id": "b8e1c06d",
   "metadata": {},
   "outputs": [
    {
     "data": {
      "text/plain": [
       "-2.5298221281347035"
      ]
     },
     "execution_count": 11,
     "metadata": {},
     "output_type": "execute_result"
    }
   ],
   "source": [
    "z = (sample_mean - population_mean)/(population_std/sqrt(sample_size))\n",
    "z"
   ]
  },
  {
   "cell_type": "code",
   "execution_count": 14,
   "id": "b4d2f51a",
   "metadata": {},
   "outputs": [
    {
     "data": {
      "text/plain": [
       "0.005706018193000826"
      ]
     },
     "execution_count": 14,
     "metadata": {},
     "output_type": "execute_result"
    }
   ],
   "source": [
    "p_value = stats.norm.cdf(z)\n",
    "p_value"
   ]
  },
  {
   "attachments": {},
   "cell_type": "markdown",
   "id": "a0c06112",
   "metadata": {},
   "source": [
    "##### According to the provided check, the calculated statistic is approximately -2.5298 and the p-value is approximately 0.0057, which is less than 0.01. Therefore, we reject the null hypothesis.\n",
    "\n",
    "##### Conclusion: The company can be accused of paying substandard wages at the 0.01 level of significance. "
   ]
  },
  {
   "cell_type": "markdown",
   "id": "e3aaa1ff",
   "metadata": {},
   "source": [
    "### EXERCISE 4\n",
    "Shear strength measurements derived from unconfined compression tests for two types of soils gave the results shown in the following document (measurements in tons per square foot). Do the soils appear to differ with respect to average shear strength, at the 1% significance level?\n",
    "\n",
    "Results for two type of soils\n",
    "https://docs.google.com/spreadsheets/d/1f2odmgDboIVuSV-A5gmuC25ppqQ5g1OIIF4h5EOqUcI/edit?usp=sharing\n",
    "\n",
    "CHECK: statistic: 5.1681473319343345, pvalue= 2.593228732352821e-06"
   ]
  },
  {
   "cell_type": "code",
   "execution_count": 17,
   "id": "96eaf7de",
   "metadata": {},
   "outputs": [],
   "source": [
    "soil1 = [1.442, 1.943, 1.11, 1.912, 1.553, 1.641, 1.499, 1.347, 1.685, 1.578,\n",
    "         1.866, 1.653, 1.665, 1.64, 1.976, 1.754, 1.589, 1.976, 1.863, 1.932,\n",
    "         1.57, 1.613, 2.054, 1.55, 1.714, 1.896, 1.737, 1.74, 1.708, 1.548]\n",
    "\n",
    "\n",
    "soil2 = [1.364, 1.878, 1.337, 1.828, 1.371, 1.428, 1.119, 1.373, 1.589, 1.714,\n",
    "         1.26, 1.492, 1.395, 1.778, 1.611, 1.202, 1.542, 1.094, 1.557, 1.053,\n",
    "         1.183, 1.367, 1.144, 1.151, 1.561, 1.192, 1.489, 1.379, 1.501, 1.277,\n",
    "         1.593, 1.172, 1.51, 1.74, 1.355]"
   ]
  },
  {
   "cell_type": "code",
   "execution_count": 19,
   "id": "df76a119",
   "metadata": {},
   "outputs": [
    {
     "data": {
      "text/plain": [
       "(5.1681473319343345, 2.593228732352821e-06)"
      ]
     },
     "execution_count": 19,
     "metadata": {},
     "output_type": "execute_result"
    }
   ],
   "source": [
    "statistic, p_value = ttest_ind(soil1, soil2)\n",
    "statistic, p_value"
   ]
  },
  {
   "cell_type": "markdown",
   "id": "24ddcd87",
   "metadata": {},
   "source": [
    "##### These results indicate that the p-value is much smaller than 0.01, suggesting strong evidence against the null hypothesis. Therefore, we reject the null hypothesis and conclude that there is sufficient evidence to suggest that the soils differ with respect to average shear strength."
   ]
  },
  {
   "cell_type": "markdown",
   "id": "3e87336b",
   "metadata": {},
   "source": [
    "### EXERCISE 5.\n",
    "The following dataset is based on data provided by the World Bank (https://datacatalog.worldbank.org/dataset/education-statistics). World Bank Edstats.  2015 PISA Test Dataset\n",
    "\n",
    "1. Get descriptive statistics (the central tendency, dispersion and shape of a dataset’s distribution) for each continent group (AS, EU, AF, NA, SA, OC).\n",
    "2. Determine whether there is any difference (on the average) for the math scores among European (EU) and Asian (AS) countries (assume normality and equal variances). Draw side-by-side box plots.\n",
    "\n",
    "\n",
    "CHECK: statistic=0.870055317967983, pvalue=0.38826888111307345\n"
   ]
  },
  {
   "cell_type": "code",
   "execution_count": 23,
   "id": "e7bed5ed",
   "metadata": {},
   "outputs": [
    {
     "data": {
      "text/html": [
       "<div>\n",
       "<style scoped>\n",
       "    .dataframe tbody tr th:only-of-type {\n",
       "        vertical-align: middle;\n",
       "    }\n",
       "\n",
       "    .dataframe tbody tr th {\n",
       "        vertical-align: top;\n",
       "    }\n",
       "\n",
       "    .dataframe thead th {\n",
       "        text-align: right;\n",
       "    }\n",
       "</style>\n",
       "<table border=\"1\" class=\"dataframe\">\n",
       "  <thead>\n",
       "    <tr style=\"text-align: right;\">\n",
       "      <th></th>\n",
       "      <th>Country Code</th>\n",
       "      <th>Continent_Code</th>\n",
       "      <th>internet_users_per_100</th>\n",
       "      <th>Math</th>\n",
       "      <th>Reading</th>\n",
       "      <th>Science</th>\n",
       "    </tr>\n",
       "  </thead>\n",
       "  <tbody>\n",
       "    <tr>\n",
       "      <th>0</th>\n",
       "      <td>ALB</td>\n",
       "      <td>EU</td>\n",
       "      <td>63.252933</td>\n",
       "      <td>413.1570</td>\n",
       "      <td>405.2588</td>\n",
       "      <td>427.2250</td>\n",
       "    </tr>\n",
       "    <tr>\n",
       "      <th>1</th>\n",
       "      <td>ARE</td>\n",
       "      <td>AS</td>\n",
       "      <td>90.500000</td>\n",
       "      <td>427.4827</td>\n",
       "      <td>433.5423</td>\n",
       "      <td>436.7311</td>\n",
       "    </tr>\n",
       "    <tr>\n",
       "      <th>2</th>\n",
       "      <td>ARG</td>\n",
       "      <td>SA</td>\n",
       "      <td>68.043064</td>\n",
       "      <td>409.0333</td>\n",
       "      <td>425.3031</td>\n",
       "      <td>432.2262</td>\n",
       "    </tr>\n",
       "    <tr>\n",
       "      <th>3</th>\n",
       "      <td>AUS</td>\n",
       "      <td>OC</td>\n",
       "      <td>84.560519</td>\n",
       "      <td>493.8962</td>\n",
       "      <td>502.9006</td>\n",
       "      <td>509.9939</td>\n",
       "    </tr>\n",
       "    <tr>\n",
       "      <th>4</th>\n",
       "      <td>AUT</td>\n",
       "      <td>EU</td>\n",
       "      <td>83.940142</td>\n",
       "      <td>496.7423</td>\n",
       "      <td>484.8656</td>\n",
       "      <td>495.0375</td>\n",
       "    </tr>\n",
       "  </tbody>\n",
       "</table>\n",
       "</div>"
      ],
      "text/plain": [
       "  Country Code Continent_Code  internet_users_per_100      Math   Reading  \\\n",
       "0          ALB             EU               63.252933  413.1570  405.2588   \n",
       "1          ARE             AS               90.500000  427.4827  433.5423   \n",
       "2          ARG             SA               68.043064  409.0333  425.3031   \n",
       "3          AUS             OC               84.560519  493.8962  502.9006   \n",
       "4          AUT             EU               83.940142  496.7423  484.8656   \n",
       "\n",
       "    Science  \n",
       "0  427.2250  \n",
       "1  436.7311  \n",
       "2  432.2262  \n",
       "3  509.9939  \n",
       "4  495.0375  "
      ]
     },
     "execution_count": 23,
     "metadata": {},
     "output_type": "execute_result"
    }
   ],
   "source": [
    "df = pd.read_csv(\"2015_PISA_Test.csv\")\n",
    "df.head()"
   ]
  },
  {
   "cell_type": "code",
   "execution_count": 38,
   "id": "bc595124",
   "metadata": {},
   "outputs": [
    {
     "name": "stdout",
     "output_type": "stream",
     "text": [
      "Descriptive Statistics:\n",
      "AS:\n",
      "count     17.000000\n",
      "mean     466.216647\n",
      "std       64.356490\n",
      "min      380.259000\n",
      "25%      403.833200\n",
      "50%      459.816000\n",
      "75%      531.296100\n",
      "max      564.189700\n",
      "Name: Math, dtype: float64\n",
      "\n",
      "EU:\n",
      "count     37.000000\n",
      "mean     477.981449\n",
      "std       35.150403\n",
      "min      371.311400\n",
      "25%      464.040100\n",
      "50%      489.728700\n",
      "75%      503.722000\n",
      "max      521.250600\n",
      "Name: Math, dtype: float64\n",
      "\n",
      "AF:\n",
      "count      2.000000\n",
      "mean     363.212100\n",
      "std        5.099513\n",
      "min      359.606200\n",
      "25%      361.409150\n",
      "50%      363.212100\n",
      "75%      365.015050\n",
      "max      366.818000\n",
      "Name: Math, dtype: float64\n",
      "\n",
      "NA:\n",
      "count    0.0\n",
      "mean     NaN\n",
      "std      NaN\n",
      "min      NaN\n",
      "25%      NaN\n",
      "50%      NaN\n",
      "75%      NaN\n",
      "max      NaN\n",
      "Name: Math, dtype: float64\n",
      "\n",
      "SA:\n",
      "count      7.000000\n",
      "mean     402.887700\n",
      "std       18.128894\n",
      "min      377.069500\n",
      "25%      388.102200\n",
      "50%      409.033300\n",
      "75%      417.617650\n",
      "max      422.671400\n",
      "Name: Math, dtype: float64\n",
      "\n",
      "OC:\n",
      "count      2.000000\n",
      "mean     494.559750\n",
      "std        0.938401\n",
      "min      493.896200\n",
      "25%      494.227975\n",
      "50%      494.559750\n",
      "75%      494.891525\n",
      "max      495.223300\n",
      "Name: Math, dtype: float64\n",
      "\n"
     ]
    }
   ],
   "source": [
    "print(\"Descriptive Statistics:\")\n",
    "for continent, stats in descriptive_stats.items():\n",
    "    print(f\"{continent}:\\n{stats}\\n\")"
   ]
  },
  {
   "cell_type": "code",
   "execution_count": 35,
   "id": "f4e3c9ec",
   "metadata": {},
   "outputs": [
    {
     "data": {
      "text/plain": [
       "(0.870055317967983, 0.38826888111307345)"
      ]
     },
     "execution_count": 35,
     "metadata": {},
     "output_type": "execute_result"
    }
   ],
   "source": [
    "continent_groups = {\n",
    "    \"AS\": df[df[\"Continent_Code\"] == \"AS\"],\n",
    "    \"EU\": df[df[\"Continent_Code\"] == \"EU\"],\n",
    "    \"AF\": df[df[\"Continent_Code\"] == \"AF\"],\n",
    "    \"NA\": df[df[\"Continent_Code\"] == \"NA\"],\n",
    "    \"SA\": df[df[\"Continent_Code\"] == \"SA\"],\n",
    "    \"OC\": df[df[\"Continent_Code\"] == \"OC\"]}\n",
    "\n",
    "descriptive_stats = {}\n",
    "for continent, group_data in continent_groups.items():\n",
    "    descriptive_stats[continent] = group_data[\"Math\"].describe()\n",
    "\n",
    "eu_scores = continent_groups[\"EU\"][\"Math\"]\n",
    "as_scores = continent_groups[\"AS\"][\"Math\"]\n",
    "\n",
    "t_statistic, p_value = ttest_ind(eu_scores, as_scores)\n",
    "t_statistic, p_value"
   ]
  },
  {
   "cell_type": "code",
   "execution_count": 36,
   "id": "19830f09",
   "metadata": {},
   "outputs": [
    {
     "data": {
      "image/png": "[encoded data removed]",
      "text/plain": [
       "<Figure size 1000x600 with 1 Axes>"
      ]
     },
     "metadata": {},
     "output_type": "display_data"
    }
   ],
   "source": [
    "plt.figure(figsize=(10, 6))\n",
    "plt.boxplot([continent_groups[\"EU\"][\"Math\"], continent_groups[\"AS\"][\"Math\"]], labels=[\"EU\", \"AS\"])\n",
    "plt.xlabel(\"Continent\")\n",
    "plt.ylabel(\"Math Score\")\n",
    "plt.grid(True);"
   ]
  },
  {
   "cell_type": "code",
   "execution_count": null,
   "id": "442205d3",
   "metadata": {},
   "outputs": [],
   "source": []
  }
 ],
 "metadata": {
  "kernelspec": {
   "display_name": "Python 3 (ipykernel)",
   "language": "python",
   "name": "python3"
  },
  "language_info": {
   "codemirror_mode": {
    "name": "ipython",
    "version": 3
   },
   "file_extension": ".py",
   "mimetype": "text/x-python",
   "name": "python",
   "nbconvert_exporter": "python",
   "pygments_lexer": "ipython3",
   "version": "3.11.5"
  },
  "toc": {
   "base_numbering": 1,
   "nav_menu": {},
   "number_sections": true,
   "sideBar": true,
   "skip_h1_title": false,
   "title_cell": "Table of Contents",
   "title_sidebar": "Contents",
   "toc_cell": false,
   "toc_position": {},
   "toc_section_display": true,
   "toc_window_display": false
  },
  "varInspector": {
   "cols": {
    "lenName": 16,
    "lenType": 16,
    "lenVar": 40
   },
   "kernels_config": {
    "python": {
     "delete_cmd_postfix": "",
     "delete_cmd_prefix": "del ",
     "library": "var_list.py",
     "varRefreshCmd": "print(var_dic_list())"
    },
    "r": {
     "delete_cmd_postfix": ") ",
     "delete_cmd_prefix": "rm(",
     "library": "var_list.r",
     "varRefreshCmd": "cat(var_dic_list()) "
    }
   },
   "types_to_exclude": [
    "module",
    "function",
    "builtin_function_or_method",
    "instance",
    "_Feature"
   ],
   "window_display": false
  }
 },
 "nbformat": 4,
 "nbformat_minor": 5
}
